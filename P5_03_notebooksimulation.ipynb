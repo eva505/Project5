{
 "cells": [
  {
   "cell_type": "markdown",
   "id": "2d5e299e",
   "metadata": {
    "heading_collapsed": true
   },
   "source": [
    "# Projet 5 - Segmentation des Clients d'un Site E-Commerce\n",
    "## Partie 3 de 3"
   ]
  },
  {
   "cell_type": "markdown",
   "id": "30b43dbe",
   "metadata": {},
   "source": [
    "# 1. Résumé"
   ]
  },
  {
   "cell_type": "markdown",
   "id": "a77d3e1f",
   "metadata": {},
   "source": [
    "L'objectif du projet est de segmenter des clients du site e-commerce, ce qu'inclu :\n",
    "\n",
    "* **comprendre les différents types d’utilisateurs** grâce à leur comportement et à leurs données personnelles\n",
    "* fournir à l’équipe marketing **une description actionable de la segmentation** et de sa logique sous-jacente pour une utilisation optimale\n",
    "* **proposer un contrat de maintenance** basée sur une analyse de la stabilité des segments au cours du temps"
   ]
  },
  {
   "cell_type": "markdown",
   "id": "4cb5abd3",
   "metadata": {},
   "source": [
    "Dans le premier notebook du projet on a consolidé les informations sur les commandes et les clients dans deux datasets. On a aussi fait un nettoyage et un exploration des données pour ce préparer au modélisation.\n",
    "Dans le deuxième notebook, on a testé plusieurs modèles avec des différents features et nombre de clusters.\n",
    "**Dans ce notebook, on fait une analyse de la stabilité des segments au cours du temps du modèle proposé.**"
   ]
  },
  {
   "cell_type": "markdown",
   "id": "c7af973d",
   "metadata": {},
   "source": [
    "# 2. Les Imports"
   ]
  },
  {
   "cell_type": "markdown",
   "id": "ec4f0ff1",
   "metadata": {},
   "source": [
    "## 2.1 Les Bibliothèques et Styles"
   ]
  },
  {
   "cell_type": "code",
   "execution_count": 1,
   "id": "613f5e23",
   "metadata": {},
   "outputs": [],
   "source": [
    "#imports: regular expresssions, operating system, math operations\n",
    "#import re,os,math\n",
    "import re, os, random, datetime\n",
    "#from math import sin, cos, sqrt, atan2, radians, degrees\n",
    "#from cmath import rect, phase\n",
    "from ast import literal_eval\n",
    "\n",
    "#data modules\n",
    "import numpy as np\n",
    "import pandas as pd\n",
    "import scipy as sp\n",
    "\n",
    "\n",
    "#graphic modules\n",
    "import matplotlib.pyplot as plt\n",
    "import matplotlib.dates as dates\n",
    "from matplotlib.colors import ListedColormap\n",
    "\n",
    "import seaborn as sns"
   ]
  },
  {
   "cell_type": "code",
   "execution_count": 2,
   "id": "ca1ec245",
   "metadata": {},
   "outputs": [],
   "source": [
    "#les functions de sklearn\n",
    "from sklearn.preprocessing import FunctionTransformer, StandardScaler\n",
    "from sklearn.compose import ColumnTransformer\n",
    "from sklearn.pipeline import Pipeline\n",
    "from sklearn.decomposition import PCA, FactorAnalysis, KernelPCA\n",
    "from sklearn.cluster import KMeans, AgglomerativeClustering, Birch\n",
    "from sklearn.manifold import MDS, Isomap, LocallyLinearEmbedding, TSNE\n",
    "from sklearn.mixture import GaussianMixture\n",
    "from sklearn.base import clone\n",
    "\n",
    "from sklearn import metrics"
   ]
  },
  {
   "cell_type": "code",
   "execution_count": 3,
   "id": "0fd49a8b",
   "metadata": {},
   "outputs": [],
   "source": [
    "sns.set() #sets the theme of seaborn\n",
    "#creates static png images of the plots within the notebook (other option: 'notebook' for interactive plots)\n",
    "%matplotlib inline "
   ]
  },
  {
   "cell_type": "markdown",
   "id": "95f16535",
   "metadata": {
    "heading_collapsed": true
   },
   "source": [
    "## 2.2 Les Données"
   ]
  },
  {
   "cell_type": "code",
   "execution_count": 4,
   "id": "c20e3d36",
   "metadata": {
    "hidden": true
   },
   "outputs": [],
   "source": [
    "PATH_TO_DATA = os.getcwd() + '\\\\DataCleaned\\\\'\n",
    "orders_df = pd.read_csv(PATH_TO_DATA + 'Olist_Cleaned_Orders' + '.csv')"
   ]
  },
  {
   "cell_type": "code",
   "execution_count": 5,
   "id": "fadd15ae",
   "metadata": {
    "hidden": true
   },
   "outputs": [
    {
     "data": {
      "text/html": [
       "<div>\n",
       "<style scoped>\n",
       "    .dataframe tbody tr th:only-of-type {\n",
       "        vertical-align: middle;\n",
       "    }\n",
       "\n",
       "    .dataframe tbody tr th {\n",
       "        vertical-align: top;\n",
       "    }\n",
       "\n",
       "    .dataframe thead th {\n",
       "        text-align: right;\n",
       "    }\n",
       "</style>\n",
       "<table border=\"1\" class=\"dataframe\">\n",
       "  <thead>\n",
       "    <tr style=\"text-align: right;\">\n",
       "      <th></th>\n",
       "      <th>Unnamed: 0</th>\n",
       "      <th>order_id</th>\n",
       "      <th>customer_id</th>\n",
       "      <th>order_status</th>\n",
       "      <th>order_purchase_timestamp</th>\n",
       "      <th>order_approved_at</th>\n",
       "      <th>order_delivered_carrier_date</th>\n",
       "      <th>order_delivered_customer_date</th>\n",
       "      <th>order_estimated_delivery_date</th>\n",
       "      <th>customer_unique_id</th>\n",
       "      <th>...</th>\n",
       "      <th>used_boleto</th>\n",
       "      <th>used_card</th>\n",
       "      <th>order_payment_total</th>\n",
       "      <th>review_score</th>\n",
       "      <th>review_response_time</th>\n",
       "      <th>has_review_title</th>\n",
       "      <th>has_review_message</th>\n",
       "      <th>has_review</th>\n",
       "      <th>review_response_speed</th>\n",
       "      <th>review_answer_timestamp</th>\n",
       "    </tr>\n",
       "  </thead>\n",
       "  <tbody>\n",
       "    <tr>\n",
       "      <th>0</th>\n",
       "      <td>0</td>\n",
       "      <td>e481f51cbdc54678b7cc49136f2d6af7</td>\n",
       "      <td>9ef432eb6251297304e76186b10a928d</td>\n",
       "      <td>delivered</td>\n",
       "      <td>2017-10-02 10:56:33.000</td>\n",
       "      <td>2017-10-02 11:07:15.000</td>\n",
       "      <td>2017-10-04 19:55:00.000</td>\n",
       "      <td>2017-10-10 21:25:13.000</td>\n",
       "      <td>2017-10-18 00:00:00.000</td>\n",
       "      <td>7c396fd4830fd04220f754e42b4e5bff</td>\n",
       "      <td>...</td>\n",
       "      <td>False</td>\n",
       "      <td>True</td>\n",
       "      <td>38.71</td>\n",
       "      <td>4.0</td>\n",
       "      <td>1.155417</td>\n",
       "      <td>False</td>\n",
       "      <td>True</td>\n",
       "      <td>True</td>\n",
       "      <td>0.463947</td>\n",
       "      <td>2017-10-12 03:43:48.000</td>\n",
       "    </tr>\n",
       "    <tr>\n",
       "      <th>1</th>\n",
       "      <td>1</td>\n",
       "      <td>53cdb2fc8bc7dce0b6741e2150273451</td>\n",
       "      <td>b0830fb4747a6c6d20dea0b8c802d7ef</td>\n",
       "      <td>delivered</td>\n",
       "      <td>2018-07-24 20:41:37.000</td>\n",
       "      <td>2018-07-26 03:24:27.000</td>\n",
       "      <td>2018-07-26 14:31:00.000</td>\n",
       "      <td>2018-08-07 15:27:45.000</td>\n",
       "      <td>2018-08-13 00:00:00.000</td>\n",
       "      <td>af07308b275d755c9edb36a90c618231</td>\n",
       "      <td>...</td>\n",
       "      <td>True</td>\n",
       "      <td>False</td>\n",
       "      <td>141.46</td>\n",
       "      <td>4.0</td>\n",
       "      <td>0.776273</td>\n",
       "      <td>True</td>\n",
       "      <td>True</td>\n",
       "      <td>True</td>\n",
       "      <td>0.562976</td>\n",
       "      <td>2018-08-08 18:37:50.000</td>\n",
       "    </tr>\n",
       "    <tr>\n",
       "      <th>2</th>\n",
       "      <td>2</td>\n",
       "      <td>47770eb9100c2d0c44946d9cf07ec65d</td>\n",
       "      <td>41ce2a54c0b03bf3443c3d931a367089</td>\n",
       "      <td>delivered</td>\n",
       "      <td>2018-08-08 08:38:49.000</td>\n",
       "      <td>2018-08-08 08:55:23.000</td>\n",
       "      <td>2018-08-08 13:50:00.000</td>\n",
       "      <td>2018-08-17 18:06:29.000</td>\n",
       "      <td>2018-09-04 00:00:00.000</td>\n",
       "      <td>3a653a41f6f9fc3d2a113cf8398680e8</td>\n",
       "      <td>...</td>\n",
       "      <td>False</td>\n",
       "      <td>True</td>\n",
       "      <td>179.12</td>\n",
       "      <td>5.0</td>\n",
       "      <td>4.797199</td>\n",
       "      <td>False</td>\n",
       "      <td>False</td>\n",
       "      <td>True</td>\n",
       "      <td>0.172497</td>\n",
       "      <td>2018-08-22 19:07:58.000</td>\n",
       "    </tr>\n",
       "    <tr>\n",
       "      <th>3</th>\n",
       "      <td>3</td>\n",
       "      <td>949d5b44dbf5de918fe9c16f97b45f8a</td>\n",
       "      <td>f88197465ea7920adcdbec7375364d82</td>\n",
       "      <td>delivered</td>\n",
       "      <td>2017-11-18 19:28:06.000</td>\n",
       "      <td>2017-11-18 19:45:59.000</td>\n",
       "      <td>2017-11-22 13:39:59.000</td>\n",
       "      <td>2017-12-02 00:28:42.000</td>\n",
       "      <td>2017-12-15 00:00:00.000</td>\n",
       "      <td>7c142cf63193a1473d2e66489a9ae977</td>\n",
       "      <td>...</td>\n",
       "      <td>False</td>\n",
       "      <td>True</td>\n",
       "      <td>72.20</td>\n",
       "      <td>5.0</td>\n",
       "      <td>2.806921</td>\n",
       "      <td>False</td>\n",
       "      <td>True</td>\n",
       "      <td>True</td>\n",
       "      <td>0.262679</td>\n",
       "      <td>2017-12-05 19:21:58.000</td>\n",
       "    </tr>\n",
       "    <tr>\n",
       "      <th>4</th>\n",
       "      <td>4</td>\n",
       "      <td>ad21c59c0840e6cb83a9ceb5573f8159</td>\n",
       "      <td>8ab97904e6daea8866dbdbc4fb7aad2c</td>\n",
       "      <td>delivered</td>\n",
       "      <td>2018-02-13 21:18:39.000</td>\n",
       "      <td>2018-02-13 22:20:29.000</td>\n",
       "      <td>2018-02-14 19:46:34.000</td>\n",
       "      <td>2018-02-16 18:17:02.000</td>\n",
       "      <td>2018-02-26 00:00:00.000</td>\n",
       "      <td>72632f0f9dd73dfee390c9b22eb56dd6</td>\n",
       "      <td>...</td>\n",
       "      <td>False</td>\n",
       "      <td>True</td>\n",
       "      <td>28.62</td>\n",
       "      <td>5.0</td>\n",
       "      <td>1.543646</td>\n",
       "      <td>False</td>\n",
       "      <td>False</td>\n",
       "      <td>True</td>\n",
       "      <td>0.393136</td>\n",
       "      <td>2018-02-18 13:02:51.000</td>\n",
       "    </tr>\n",
       "    <tr>\n",
       "      <th>...</th>\n",
       "      <td>...</td>\n",
       "      <td>...</td>\n",
       "      <td>...</td>\n",
       "      <td>...</td>\n",
       "      <td>...</td>\n",
       "      <td>...</td>\n",
       "      <td>...</td>\n",
       "      <td>...</td>\n",
       "      <td>...</td>\n",
       "      <td>...</td>\n",
       "      <td>...</td>\n",
       "      <td>...</td>\n",
       "      <td>...</td>\n",
       "      <td>...</td>\n",
       "      <td>...</td>\n",
       "      <td>...</td>\n",
       "      <td>...</td>\n",
       "      <td>...</td>\n",
       "      <td>...</td>\n",
       "      <td>...</td>\n",
       "      <td>...</td>\n",
       "    </tr>\n",
       "    <tr>\n",
       "      <th>99428</th>\n",
       "      <td>99436</td>\n",
       "      <td>9c5dedf39a927c1b2549525ed64a053c</td>\n",
       "      <td>39bd1228ee8140590ac3aca26f2dfe00</td>\n",
       "      <td>delivered</td>\n",
       "      <td>2017-03-09 09:54:05.000</td>\n",
       "      <td>2017-03-09 09:54:05.000</td>\n",
       "      <td>2017-03-10 11:18:03.000</td>\n",
       "      <td>2017-03-17 15:08:01.000</td>\n",
       "      <td>2017-03-28 00:00:00.000</td>\n",
       "      <td>6359f309b166b0196dbf7ad2ac62bb5a</td>\n",
       "      <td>...</td>\n",
       "      <td>False</td>\n",
       "      <td>True</td>\n",
       "      <td>85.08</td>\n",
       "      <td>5.0</td>\n",
       "      <td>1.459815</td>\n",
       "      <td>False</td>\n",
       "      <td>False</td>\n",
       "      <td>True</td>\n",
       "      <td>0.406535</td>\n",
       "      <td>2017-03-23 11:02:08.000</td>\n",
       "    </tr>\n",
       "    <tr>\n",
       "      <th>99429</th>\n",
       "      <td>99437</td>\n",
       "      <td>63943bddc261676b46f01ca7ac2f7bd8</td>\n",
       "      <td>1fca14ff2861355f6e5f14306ff977a7</td>\n",
       "      <td>delivered</td>\n",
       "      <td>2018-02-06 12:58:58.000</td>\n",
       "      <td>2018-02-06 13:10:37.000</td>\n",
       "      <td>2018-02-07 23:22:42.000</td>\n",
       "      <td>2018-02-28 17:37:56.000</td>\n",
       "      <td>2018-03-02 00:00:00.000</td>\n",
       "      <td>da62f9e57a76d978d02ab5362c509660</td>\n",
       "      <td>...</td>\n",
       "      <td>False</td>\n",
       "      <td>True</td>\n",
       "      <td>195.00</td>\n",
       "      <td>4.0</td>\n",
       "      <td>1.743067</td>\n",
       "      <td>False</td>\n",
       "      <td>True</td>\n",
       "      <td>True</td>\n",
       "      <td>0.364555</td>\n",
       "      <td>2018-03-02 17:50:01.000</td>\n",
       "    </tr>\n",
       "    <tr>\n",
       "      <th>99430</th>\n",
       "      <td>99438</td>\n",
       "      <td>83c1379a015df1e13d02aae0204711ab</td>\n",
       "      <td>1aa71eb042121263aafbe80c1b562c9c</td>\n",
       "      <td>delivered</td>\n",
       "      <td>2017-08-27 14:46:43.000</td>\n",
       "      <td>2017-08-27 15:04:16.000</td>\n",
       "      <td>2017-08-28 20:52:26.000</td>\n",
       "      <td>2017-09-21 11:24:17.000</td>\n",
       "      <td>2017-09-27 00:00:00.000</td>\n",
       "      <td>737520a9aad80b3fbbdad19b66b37b30</td>\n",
       "      <td>...</td>\n",
       "      <td>False</td>\n",
       "      <td>True</td>\n",
       "      <td>271.01</td>\n",
       "      <td>5.0</td>\n",
       "      <td>0.965938</td>\n",
       "      <td>False</td>\n",
       "      <td>True</td>\n",
       "      <td>True</td>\n",
       "      <td>0.508663</td>\n",
       "      <td>2017-09-22 23:10:57.000</td>\n",
       "    </tr>\n",
       "    <tr>\n",
       "      <th>99431</th>\n",
       "      <td>99439</td>\n",
       "      <td>11c177c8e97725db2631073c19f07b62</td>\n",
       "      <td>b331b74b18dc79bcdf6532d51e1637c1</td>\n",
       "      <td>delivered</td>\n",
       "      <td>2018-01-08 21:28:27.000</td>\n",
       "      <td>2018-01-08 21:36:21.000</td>\n",
       "      <td>2018-01-12 15:35:03.000</td>\n",
       "      <td>2018-01-25 23:32:54.000</td>\n",
       "      <td>2018-02-15 00:00:00.000</td>\n",
       "      <td>5097a5312c8b157bb7be58ae360ef43c</td>\n",
       "      <td>...</td>\n",
       "      <td>False</td>\n",
       "      <td>True</td>\n",
       "      <td>441.16</td>\n",
       "      <td>2.0</td>\n",
       "      <td>1.386759</td>\n",
       "      <td>False</td>\n",
       "      <td>True</td>\n",
       "      <td>True</td>\n",
       "      <td>0.418978</td>\n",
       "      <td>2018-01-27 09:16:56.000</td>\n",
       "    </tr>\n",
       "    <tr>\n",
       "      <th>99432</th>\n",
       "      <td>99440</td>\n",
       "      <td>66dea50a8b16d9b4dee7af250b4be1a5</td>\n",
       "      <td>edb027a75a1449115f6b43211ae02a24</td>\n",
       "      <td>delivered</td>\n",
       "      <td>2018-03-08 20:57:30.000</td>\n",
       "      <td>2018-03-09 11:20:28.000</td>\n",
       "      <td>2018-03-09 22:11:59.000</td>\n",
       "      <td>2018-03-16 13:08:30.000</td>\n",
       "      <td>2018-04-03 00:00:00.000</td>\n",
       "      <td>60350aa974b26ff12caad89e55993bd6</td>\n",
       "      <td>...</td>\n",
       "      <td>False</td>\n",
       "      <td>True</td>\n",
       "      <td>86.86</td>\n",
       "      <td>5.0</td>\n",
       "      <td>0.689942</td>\n",
       "      <td>False</td>\n",
       "      <td>False</td>\n",
       "      <td>True</td>\n",
       "      <td>0.591736</td>\n",
       "      <td>2018-03-17 16:33:31.000</td>\n",
       "    </tr>\n",
       "  </tbody>\n",
       "</table>\n",
       "<p>99433 rows × 46 columns</p>\n",
       "</div>"
      ],
      "text/plain": [
       "       Unnamed: 0                          order_id  \\\n",
       "0               0  e481f51cbdc54678b7cc49136f2d6af7   \n",
       "1               1  53cdb2fc8bc7dce0b6741e2150273451   \n",
       "2               2  47770eb9100c2d0c44946d9cf07ec65d   \n",
       "3               3  949d5b44dbf5de918fe9c16f97b45f8a   \n",
       "4               4  ad21c59c0840e6cb83a9ceb5573f8159   \n",
       "...           ...                               ...   \n",
       "99428       99436  9c5dedf39a927c1b2549525ed64a053c   \n",
       "99429       99437  63943bddc261676b46f01ca7ac2f7bd8   \n",
       "99430       99438  83c1379a015df1e13d02aae0204711ab   \n",
       "99431       99439  11c177c8e97725db2631073c19f07b62   \n",
       "99432       99440  66dea50a8b16d9b4dee7af250b4be1a5   \n",
       "\n",
       "                            customer_id order_status order_purchase_timestamp  \\\n",
       "0      9ef432eb6251297304e76186b10a928d    delivered  2017-10-02 10:56:33.000   \n",
       "1      b0830fb4747a6c6d20dea0b8c802d7ef    delivered  2018-07-24 20:41:37.000   \n",
       "2      41ce2a54c0b03bf3443c3d931a367089    delivered  2018-08-08 08:38:49.000   \n",
       "3      f88197465ea7920adcdbec7375364d82    delivered  2017-11-18 19:28:06.000   \n",
       "4      8ab97904e6daea8866dbdbc4fb7aad2c    delivered  2018-02-13 21:18:39.000   \n",
       "...                                 ...          ...                      ...   \n",
       "99428  39bd1228ee8140590ac3aca26f2dfe00    delivered  2017-03-09 09:54:05.000   \n",
       "99429  1fca14ff2861355f6e5f14306ff977a7    delivered  2018-02-06 12:58:58.000   \n",
       "99430  1aa71eb042121263aafbe80c1b562c9c    delivered  2017-08-27 14:46:43.000   \n",
       "99431  b331b74b18dc79bcdf6532d51e1637c1    delivered  2018-01-08 21:28:27.000   \n",
       "99432  edb027a75a1449115f6b43211ae02a24    delivered  2018-03-08 20:57:30.000   \n",
       "\n",
       "             order_approved_at order_delivered_carrier_date  \\\n",
       "0      2017-10-02 11:07:15.000      2017-10-04 19:55:00.000   \n",
       "1      2018-07-26 03:24:27.000      2018-07-26 14:31:00.000   \n",
       "2      2018-08-08 08:55:23.000      2018-08-08 13:50:00.000   \n",
       "3      2017-11-18 19:45:59.000      2017-11-22 13:39:59.000   \n",
       "4      2018-02-13 22:20:29.000      2018-02-14 19:46:34.000   \n",
       "...                        ...                          ...   \n",
       "99428  2017-03-09 09:54:05.000      2017-03-10 11:18:03.000   \n",
       "99429  2018-02-06 13:10:37.000      2018-02-07 23:22:42.000   \n",
       "99430  2017-08-27 15:04:16.000      2017-08-28 20:52:26.000   \n",
       "99431  2018-01-08 21:36:21.000      2018-01-12 15:35:03.000   \n",
       "99432  2018-03-09 11:20:28.000      2018-03-09 22:11:59.000   \n",
       "\n",
       "      order_delivered_customer_date order_estimated_delivery_date  \\\n",
       "0           2017-10-10 21:25:13.000       2017-10-18 00:00:00.000   \n",
       "1           2018-08-07 15:27:45.000       2018-08-13 00:00:00.000   \n",
       "2           2018-08-17 18:06:29.000       2018-09-04 00:00:00.000   \n",
       "3           2017-12-02 00:28:42.000       2017-12-15 00:00:00.000   \n",
       "4           2018-02-16 18:17:02.000       2018-02-26 00:00:00.000   \n",
       "...                             ...                           ...   \n",
       "99428       2017-03-17 15:08:01.000       2017-03-28 00:00:00.000   \n",
       "99429       2018-02-28 17:37:56.000       2018-03-02 00:00:00.000   \n",
       "99430       2017-09-21 11:24:17.000       2017-09-27 00:00:00.000   \n",
       "99431       2018-01-25 23:32:54.000       2018-02-15 00:00:00.000   \n",
       "99432       2018-03-16 13:08:30.000       2018-04-03 00:00:00.000   \n",
       "\n",
       "                     customer_unique_id  ...  used_boleto used_card  \\\n",
       "0      7c396fd4830fd04220f754e42b4e5bff  ...        False      True   \n",
       "1      af07308b275d755c9edb36a90c618231  ...         True     False   \n",
       "2      3a653a41f6f9fc3d2a113cf8398680e8  ...        False      True   \n",
       "3      7c142cf63193a1473d2e66489a9ae977  ...        False      True   \n",
       "4      72632f0f9dd73dfee390c9b22eb56dd6  ...        False      True   \n",
       "...                                 ...  ...          ...       ...   \n",
       "99428  6359f309b166b0196dbf7ad2ac62bb5a  ...        False      True   \n",
       "99429  da62f9e57a76d978d02ab5362c509660  ...        False      True   \n",
       "99430  737520a9aad80b3fbbdad19b66b37b30  ...        False      True   \n",
       "99431  5097a5312c8b157bb7be58ae360ef43c  ...        False      True   \n",
       "99432  60350aa974b26ff12caad89e55993bd6  ...        False      True   \n",
       "\n",
       "      order_payment_total  review_score  review_response_time  \\\n",
       "0                   38.71           4.0              1.155417   \n",
       "1                  141.46           4.0              0.776273   \n",
       "2                  179.12           5.0              4.797199   \n",
       "3                   72.20           5.0              2.806921   \n",
       "4                   28.62           5.0              1.543646   \n",
       "...                   ...           ...                   ...   \n",
       "99428               85.08           5.0              1.459815   \n",
       "99429              195.00           4.0              1.743067   \n",
       "99430              271.01           5.0              0.965938   \n",
       "99431              441.16           2.0              1.386759   \n",
       "99432               86.86           5.0              0.689942   \n",
       "\n",
       "       has_review_title  has_review_message has_review  review_response_speed  \\\n",
       "0                 False                True       True               0.463947   \n",
       "1                  True                True       True               0.562976   \n",
       "2                 False               False       True               0.172497   \n",
       "3                 False                True       True               0.262679   \n",
       "4                 False               False       True               0.393136   \n",
       "...                 ...                 ...        ...                    ...   \n",
       "99428             False               False       True               0.406535   \n",
       "99429             False                True       True               0.364555   \n",
       "99430             False                True       True               0.508663   \n",
       "99431             False                True       True               0.418978   \n",
       "99432             False               False       True               0.591736   \n",
       "\n",
       "       review_answer_timestamp  \n",
       "0      2017-10-12 03:43:48.000  \n",
       "1      2018-08-08 18:37:50.000  \n",
       "2      2018-08-22 19:07:58.000  \n",
       "3      2017-12-05 19:21:58.000  \n",
       "4      2018-02-18 13:02:51.000  \n",
       "...                        ...  \n",
       "99428  2017-03-23 11:02:08.000  \n",
       "99429  2018-03-02 17:50:01.000  \n",
       "99430  2017-09-22 23:10:57.000  \n",
       "99431  2018-01-27 09:16:56.000  \n",
       "99432  2018-03-17 16:33:31.000  \n",
       "\n",
       "[99433 rows x 46 columns]"
      ]
     },
     "execution_count": 5,
     "metadata": {},
     "output_type": "execute_result"
    }
   ],
   "source": [
    "orders_df"
   ]
  },
  {
   "cell_type": "code",
   "execution_count": 6,
   "id": "f0ebe689",
   "metadata": {
    "hidden": true
   },
   "outputs": [
    {
     "name": "stdout",
     "output_type": "stream",
     "text": [
      "<class 'pandas.core.frame.DataFrame'>\n",
      "RangeIndex: 99433 entries, 0 to 99432\n",
      "Data columns (total 45 columns):\n",
      " #   Column                             Non-Null Count  Dtype  \n",
      "---  ------                             --------------  -----  \n",
      " 0   order_id                           99433 non-null  object \n",
      " 1   customer_id                        99433 non-null  object \n",
      " 2   order_status                       99433 non-null  object \n",
      " 3   order_purchase_timestamp           99433 non-null  object \n",
      " 4   order_approved_at                  99278 non-null  object \n",
      " 5   order_delivered_carrier_date       97657 non-null  object \n",
      " 6   order_delivered_customer_date      96484 non-null  object \n",
      " 7   order_estimated_delivery_date      99433 non-null  object \n",
      " 8   customer_unique_id                 99433 non-null  object \n",
      " 9   customer_zip_code_prefix           99433 non-null  int64  \n",
      " 10  customer_city                      99433 non-null  object \n",
      " 11  customer_state                     99433 non-null  object \n",
      " 12  delivery_time                      99433 non-null  float64\n",
      " 13  delivery_speed                     99433 non-null  float64\n",
      " 14  delivery_delay                     99433 non-null  float64\n",
      " 15  order_purchase_timeofday           99433 non-null  float64\n",
      " 16  order_status_simplified            99433 non-null  object \n",
      " 17  order_is_delivered                 99433 non-null  int64  \n",
      " 18  customer_lat                       99433 non-null  float64\n",
      " 19  customer_lng                       99433 non-null  float64\n",
      " 20  customer_zip_code_density          99433 non-null  float64\n",
      " 21  customer_zip_code_prefix_3digits   99433 non-null  int64  \n",
      " 22  customer_zip_code_density_3digits  99433 non-null  float64\n",
      " 23  order_item_quantity                99433 non-null  float64\n",
      " 24  has_multiple_items                 99433 non-null  bool   \n",
      " 25  order_price                        99433 non-null  float64\n",
      " 26  order_freight                      99433 non-null  float64\n",
      " 27  order_total_price                  99433 non-null  float64\n",
      " 28  order_freight_frac                 99433 non-null  float64\n",
      " 29  order_avg_shipping_distance        99433 non-null  float64\n",
      " 30  order_total_weight                 99433 non-null  float64\n",
      " 31  order_total_volume                 99433 non-null  float64\n",
      " 32  order_payments_quantity            99433 non-null  float64\n",
      " 33  order_installments_total           99433 non-null  float64\n",
      " 34  used_voucher                       99433 non-null  bool   \n",
      " 35  used_boleto                        99433 non-null  bool   \n",
      " 36  used_card                          99433 non-null  bool   \n",
      " 37  order_payment_total                99432 non-null  float64\n",
      " 38  review_score                       99433 non-null  float64\n",
      " 39  review_response_time               99433 non-null  float64\n",
      " 40  has_review_title                   99433 non-null  bool   \n",
      " 41  has_review_message                 99433 non-null  bool   \n",
      " 42  has_review                         99433 non-null  bool   \n",
      " 43  review_response_speed              99433 non-null  float64\n",
      " 44  review_answer_timestamp            98667 non-null  object \n",
      "dtypes: bool(7), float64(22), int64(3), object(13)\n",
      "memory usage: 29.5+ MB\n"
     ]
    }
   ],
   "source": [
    "orders_df.drop(columns=['Unnamed: 0'],inplace=True)\n",
    "orders_df.info()"
   ]
  },
  {
   "cell_type": "markdown",
   "id": "d6f1a765",
   "metadata": {},
   "source": [
    "# 3. Les Fonctions"
   ]
  },
  {
   "cell_type": "markdown",
   "id": "ab4ef50e",
   "metadata": {},
   "source": [
    "## 3.1 Groupement des Commandes par Client"
   ]
  },
  {
   "cell_type": "code",
   "execution_count": 7,
   "id": "44e3fe1b",
   "metadata": {},
   "outputs": [],
   "source": [
    "def orders_to_customers(orders_df, id_column, avg_columns=[], max_columns=[], latest_columns=[]):\n",
    "    '''Function that groups the orders to a given customer, either by averaging, taking the maximum value or the last entry.'''\n",
    "    customers_df = pd.DataFrame(orders_df.groupby(by=id_column).first().reset_index())[[id_column]]\n",
    "    if len(avg_columns):\n",
    "        customers_df = customers_df.merge(orders_df.groupby(by=id_column)[avg_columns].mean(), \n",
    "                                          on=id_column, how='left')\n",
    "    if len(max_columns):\n",
    "        customers_df = customers_df.merge(orders_df.groupby(by=id_column)[max_columns].max(), \n",
    "                                          on=id_column, how='left')\n",
    "    if len(latest_columns):\n",
    "        customers_df = customers_df.merge(orders_df.groupby(by=id_column)[latest_columns].last(), \n",
    "                                          on=id_column, how='left')\n",
    "    return customers_df"
   ]
  },
  {
   "cell_type": "markdown",
   "id": "9be17183",
   "metadata": {},
   "source": [
    "## 3.2 Prétraitement et Transformation des Données"
   ]
  },
  {
   "cell_type": "code",
   "execution_count": 8,
   "id": "02c4d2f2",
   "metadata": {},
   "outputs": [],
   "source": [
    "def daysfromlastdate(timedata_df):\n",
    "    '''Funcation that computes the Recency of the order, \\\\\n",
    "    i.e. the number of days with regards to the latest date in the dataset.'''\n",
    "    days_out = pd.DataFrame()\n",
    "    for c in timedata_df.columns:\n",
    "        timedata_series = round(pd.Series(timedata_df[c]-timedata_df[c].max()).dt.total_seconds().div(24*60*60))\n",
    "        days_out[c] = timedata_series\n",
    "    return days_out"
   ]
  },
  {
   "cell_type": "code",
   "execution_count": 9,
   "id": "9380ff8e",
   "metadata": {},
   "outputs": [],
   "source": [
    "logscale_transformer = FunctionTransformer(np.log, inverse_func = np.exp, check_inverse = True)\n",
    "log1pscale_transformer = FunctionTransformer(np.log1p, inverse_func = np.expm1, check_inverse = True)\n",
    "daysfromlastdate_transformer = FunctionTransformer(daysfromlastdate, check_inverse = False)"
   ]
  },
  {
   "cell_type": "code",
   "execution_count": 10,
   "id": "334b452d",
   "metadata": {},
   "outputs": [],
   "source": [
    "def create_preprocessor_X(logscale_features = [],  \n",
    "                          log1pscale_features = [],\n",
    "                          standardscale_features = [],\n",
    "                          daysfromlastdate_features = []) :\n",
    "    '''Creates a preprocessor for a data set with different scalers, preprocessors for different columns'''\n",
    "    preprocessor_X = ColumnTransformer(transformers = [  \n",
    "                                                         ('logscale', \n",
    "                                                           Pipeline([('log', logscale_transformer),\n",
    "                                                                     ('standard', StandardScaler())]), \n",
    "                                                           logscale_features),\n",
    "                                                         ('log1pscale', \n",
    "                                                           Pipeline([('log1p', log1pscale_transformer),\n",
    "                                                                     ('standard', StandardScaler())]), \n",
    "                                                           log1pscale_features),\n",
    "                                                         ('standardscale', StandardScaler(), standardscale_features),\n",
    "                                                         ('daysfromlastdate', \n",
    "                                                           Pipeline([('daysfromlastdate', daysfromlastdate_transformer),\n",
    "                                                                    ('standard', StandardScaler())]),\n",
    "                                                           daysfromlastdate_features)\n",
    "                                                        ], remainder = 'passthrough')\n",
    "    return preprocessor_X"
   ]
  },
  {
   "cell_type": "markdown",
   "id": "a3950d1d",
   "metadata": {},
   "source": [
    "## 3.3 Modélisation "
   ]
  },
  {
   "cell_type": "code",
   "execution_count": 11,
   "id": "cc008d92",
   "metadata": {},
   "outputs": [],
   "source": [
    "def build_model(model, preprocessor_X, pca = False):\n",
    "    '''Build a complete model.'''\n",
    "    \n",
    "    if not pca:\n",
    "        steps = [\n",
    "                 ('preprocessor', preprocessor_X),\n",
    "                 ('model', model),\n",
    "                ]\n",
    "    else:\n",
    "        steps = [\n",
    "                 ('preprocessor', preprocessor_X),\n",
    "                 ('pca', PCA()),\n",
    "                 ('model', model),\n",
    "                ]\n",
    "\n",
    "    return Pipeline(steps)"
   ]
  },
  {
   "cell_type": "code",
   "execution_count": 12,
   "id": "1d1c1894",
   "metadata": {},
   "outputs": [],
   "source": [
    "def creation_des_labels(customers_dict, initial_set_key, features, model):\n",
    "    '''Fits a model, given certain features. The data is in a dictionnary and the initial_set_key gives the key for the \\\\\n",
    "    reference dataset. The other datasets are fitted both with the reference model and to itself. The function adds the \\\\\n",
    "    respective labels to the dataset and computes and outputs the ARI scores in a dictionary.'''\n",
    "    score_dict = {}\n",
    "    model0 = clone(model)\n",
    "    model0.fit(customers_dict[initial_set_key][features])\n",
    "    model1 = clone(model)\n",
    "    for key, df in customers_dict.items() :\n",
    "        X = df[features].copy()\n",
    "        X_labels = model.fit_predict(X)\n",
    "        X_labels0 = model0.predict(X)\n",
    "        customers_dict[key]['Label'] = X_labels\n",
    "        customers_dict[key]['Label0'] = X_labels0\n",
    "        score_dict[key] = metrics.adjusted_rand_score(X_labels0,X_labels)\n",
    "\n",
    "    return score_dict"
   ]
  },
  {
   "cell_type": "code",
   "execution_count": 13,
   "id": "7800d220",
   "metadata": {},
   "outputs": [],
   "source": [
    "def exp_decay(x, b):\n",
    "    return np.exp(-b * x)"
   ]
  },
  {
   "cell_type": "markdown",
   "id": "f228a693",
   "metadata": {},
   "source": [
    "# 4. Simulation de la Décroissance de la Qualité du Modèle avec le Temps"
   ]
  },
  {
   "cell_type": "markdown",
   "id": "0f230d2b",
   "metadata": {},
   "source": [
    "## 4.1 Préparation des Données"
   ]
  },
  {
   "cell_type": "markdown",
   "id": "21263b5b",
   "metadata": {},
   "source": [
    "### 4.1.1 Sélection des Features Pertinents"
   ]
  },
  {
   "cell_type": "code",
   "execution_count": 14,
   "id": "7e42bc9b",
   "metadata": {},
   "outputs": [
    {
     "name": "stdout",
     "output_type": "stream",
     "text": [
      "<class 'pandas.core.frame.DataFrame'>\n",
      "Int64Index: 99432 entries, 0 to 99432\n",
      "Data columns (total 4 columns):\n",
      " #   Column                    Non-Null Count  Dtype  \n",
      "---  ------                    --------------  -----  \n",
      " 0   customer_unique_id        99432 non-null  object \n",
      " 1   order_purchase_timestamp  99432 non-null  object \n",
      " 2   order_payment_total       99432 non-null  float64\n",
      " 3   review_score              99432 non-null  float64\n",
      "dtypes: float64(2), object(2)\n",
      "memory usage: 3.8+ MB\n"
     ]
    }
   ],
   "source": [
    "filter_columns  = ['customer_unique_id', 'order_purchase_timestamp', 'order_payment_total', 'review_score']\n",
    "orders_df = orders_df.filter(filter_columns).dropna()\n",
    "orders_df.info()"
   ]
  },
  {
   "cell_type": "code",
   "execution_count": 15,
   "id": "6b30d8c9",
   "metadata": {},
   "outputs": [],
   "source": [
    "orders_df['order_purchase_timestamp'] = pd.to_datetime(orders_df['order_purchase_timestamp'])"
   ]
  },
  {
   "cell_type": "code",
   "execution_count": 16,
   "id": "a82cb718",
   "metadata": {},
   "outputs": [
    {
     "name": "stdout",
     "output_type": "stream",
     "text": [
      "Premier Date d'Achât:\t\t 2016-09-04 21:15:19\n",
      "Dernier Date d'Achât:\t\t 2018-10-17 17:30:18\n"
     ]
    }
   ],
   "source": [
    "print(\"Premier Date d'Achât:\\t\\t\", orders_df['order_purchase_timestamp'].min())\n",
    "print(\"Dernier Date d'Achât:\\t\\t\", orders_df['order_purchase_timestamp'].max())"
   ]
  },
  {
   "cell_type": "code",
   "execution_count": 17,
   "id": "db1124b9",
   "metadata": {},
   "outputs": [
    {
     "data": {
      "image/png": "[encoded data removed]",
      "text/plain": [
       "<Figure size 864x360 with 1 Axes>"
      ]
     },
     "metadata": {
      "needs_background": "light"
     },
     "output_type": "display_data"
    }
   ],
   "source": [
    "plt.subplots(figsize=(12,5))\n",
    "sns.histplot(orders_df, x = 'order_purchase_timestamp', bins = 52, \n",
    "             binrange=(dates.date2num(datetime.datetime(2016,9,1)),dates.date2num(datetime.datetime(2018,10,31))))\n",
    "plt.xticks(rotation = 45)\n",
    "plt.show()"
   ]
  },
  {
   "cell_type": "markdown",
   "id": "d3f1f917",
   "metadata": {},
   "source": [
    "### 4.1.2 Sélection des Données pour la Simulation"
   ]
  },
  {
   "cell_type": "code",
   "execution_count": 91,
   "id": "4e1ba603",
   "metadata": {},
   "outputs": [
    {
     "name": "stdout",
     "output_type": "stream",
     "text": [
      "datetime.IsoCalendarDate(year=2017, week=45, weekday=1)\n",
      "datetime.IsoCalendarDate(year=2018, week=32, weekday=7)\n",
      "Number of Weeks in the Dataset: 40.0\n"
     ]
    }
   ],
   "source": [
    "#start_date = datetime.datetime(2017,7,17)\n",
    "#end_date = datetime.datetime(2018,7,17)\n",
    "start_date = datetime.datetime(2017,11,6)\n",
    "end_date = datetime.datetime(2018,8,12)\n",
    "print(start_date.isocalendar())\n",
    "print(end_date.isocalendar())\n",
    "print(f\"Number of Weeks in the Dataset: {((end_date-start_date).days + 1) / 7}\")"
   ]
  },
  {
   "cell_type": "code",
   "execution_count": 92,
   "id": "1297b984",
   "metadata": {},
   "outputs": [
    {
     "name": "stdout",
     "output_type": "stream",
     "text": [
      "<class 'pandas.core.frame.DataFrame'>\n",
      "Int64Index: 62081 entries, 1 to 99432\n",
      "Data columns (total 5 columns):\n",
      " #   Column                    Non-Null Count  Dtype         \n",
      "---  ------                    --------------  -----         \n",
      " 0   customer_unique_id        62081 non-null  object        \n",
      " 1   order_purchase_timestamp  62081 non-null  datetime64[ns]\n",
      " 2   order_payment_total       62081 non-null  float64       \n",
      " 3   review_score              62081 non-null  float64       \n",
      " 4   week_count                62081 non-null  int64         \n",
      "dtypes: datetime64[ns](1), float64(2), int64(1), object(1)\n",
      "memory usage: 2.8+ MB\n"
     ]
    }
   ],
   "source": [
    "select = (orders_df['order_purchase_timestamp'] >= start_date) & (orders_df['order_purchase_timestamp'] <= end_date)\n",
    "orders_df = orders_df[select]\n",
    "orders_df.info()"
   ]
  },
  {
   "cell_type": "code",
   "execution_count": 93,
   "id": "150ebc83",
   "metadata": {},
   "outputs": [
    {
     "name": "stdout",
     "output_type": "stream",
     "text": [
      "Premier Date d'Achât:\t\t 2017-11-13 00:07:07\n",
      "Dernier Date d'Achât:\t\t 2018-08-11 23:56:26\n"
     ]
    }
   ],
   "source": [
    "print(\"Premier Date d'Achât:\\t\\t\", orders_df['order_purchase_timestamp'].min())\n",
    "print(\"Dernier Date d'Achât:\\t\\t\", orders_df['order_purchase_timestamp'].max())"
   ]
  },
  {
   "cell_type": "markdown",
   "id": "f43863b2",
   "metadata": {},
   "source": [
    "### 4.1.3 Division des Commandes en Semaines"
   ]
  },
  {
   "cell_type": "code",
   "execution_count": 94,
   "id": "d3402e8f",
   "metadata": {},
   "outputs": [
    {
     "data": {
      "text/html": [
       "<div>\n",
       "<style scoped>\n",
       "    .dataframe tbody tr th:only-of-type {\n",
       "        vertical-align: middle;\n",
       "    }\n",
       "\n",
       "    .dataframe tbody tr th {\n",
       "        vertical-align: top;\n",
       "    }\n",
       "\n",
       "    .dataframe thead th {\n",
       "        text-align: right;\n",
       "    }\n",
       "</style>\n",
       "<table border=\"1\" class=\"dataframe\">\n",
       "  <thead>\n",
       "    <tr style=\"text-align: right;\">\n",
       "      <th></th>\n",
       "      <th>order_payment_total</th>\n",
       "      <th>review_score</th>\n",
       "      <th>week_count</th>\n",
       "    </tr>\n",
       "  </thead>\n",
       "  <tbody>\n",
       "    <tr>\n",
       "      <th>count</th>\n",
       "      <td>62081.000000</td>\n",
       "      <td>62081.000000</td>\n",
       "      <td>62081.000000</td>\n",
       "    </tr>\n",
       "    <tr>\n",
       "      <th>mean</th>\n",
       "      <td>160.488174</td>\n",
       "      <td>4.040646</td>\n",
       "      <td>19.612635</td>\n",
       "    </tr>\n",
       "    <tr>\n",
       "      <th>std</th>\n",
       "      <td>212.638336</td>\n",
       "      <td>1.375910</td>\n",
       "      <td>11.383241</td>\n",
       "    </tr>\n",
       "    <tr>\n",
       "      <th>min</th>\n",
       "      <td>10.890000</td>\n",
       "      <td>1.000000</td>\n",
       "      <td>1.000000</td>\n",
       "    </tr>\n",
       "    <tr>\n",
       "      <th>25%</th>\n",
       "      <td>62.440000</td>\n",
       "      <td>4.000000</td>\n",
       "      <td>10.000000</td>\n",
       "    </tr>\n",
       "    <tr>\n",
       "      <th>50%</th>\n",
       "      <td>106.900000</td>\n",
       "      <td>5.000000</td>\n",
       "      <td>19.000000</td>\n",
       "    </tr>\n",
       "    <tr>\n",
       "      <th>75%</th>\n",
       "      <td>178.080000</td>\n",
       "      <td>5.000000</td>\n",
       "      <td>29.000000</td>\n",
       "    </tr>\n",
       "    <tr>\n",
       "      <th>max</th>\n",
       "      <td>7274.880000</td>\n",
       "      <td>5.000000</td>\n",
       "      <td>39.000000</td>\n",
       "    </tr>\n",
       "  </tbody>\n",
       "</table>\n",
       "</div>"
      ],
      "text/plain": [
       "       order_payment_total  review_score    week_count\n",
       "count         62081.000000  62081.000000  62081.000000\n",
       "mean            160.488174      4.040646     19.612635\n",
       "std             212.638336      1.375910     11.383241\n",
       "min              10.890000      1.000000      1.000000\n",
       "25%              62.440000      4.000000     10.000000\n",
       "50%             106.900000      5.000000     19.000000\n",
       "75%             178.080000      5.000000     29.000000\n",
       "max            7274.880000      5.000000     39.000000"
      ]
     },
     "execution_count": 94,
     "metadata": {},
     "output_type": "execute_result"
    }
   ],
   "source": [
    "orders_df['week_count'] = (orders_df['order_purchase_timestamp'] - start_date).dt.days.apply(lambda x: x // 7)\n",
    "orders_df.describe()"
   ]
  },
  {
   "cell_type": "code",
   "execution_count": 95,
   "id": "446684d1",
   "metadata": {},
   "outputs": [],
   "source": [
    "orders_dict = {}\n",
    "customers_dict = {}\n",
    "#group initial contient les premiers 'delta' semaines\n",
    "delta = 34\n",
    "final_week = orders_df['week_count'].max()\n",
    "for i in range(final_week+1):\n",
    "    set_name = \"Set\"+str(i+1).zfill(3)\n",
    "    orders_dict[set_name] = orders_df[orders_df['week_count'] == i]\n",
    "    if i >= delta-1:\n",
    "        select_list = [(orders_df['week_count'] <= i) & (orders_df['week_count'] > (i-delta)),\n",
    "                       (orders_df['week_count'] <= i)]\n",
    "        name_list = [\"Sliding_\", \"Growing_\"]\n",
    "        for name,select in zip(name_list,select_list) :\n",
    "            customers_dict[name + set_name] = orders_to_customers(orders_df[select], 'customer_unique_id', \n",
    "                                                                  avg_columns = ['order_payment_total', 'review_score'],\n",
    "                                                                  max_columns = ['order_purchase_timestamp']).rename(\n",
    "                                                                  columns={'order_purchase_timestamp':'recency'})"
   ]
  },
  {
   "cell_type": "code",
   "execution_count": 96,
   "id": "50c7b5f7",
   "metadata": {},
   "outputs": [
    {
     "name": "stdout",
     "output_type": "stream",
     "text": [
      "<class 'pandas.core.frame.DataFrame'>\n",
      "Int64Index: 51452 entries, 0 to 51451\n",
      "Data columns (total 4 columns):\n",
      " #   Column               Non-Null Count  Dtype         \n",
      "---  ------               --------------  -----         \n",
      " 0   customer_unique_id   51452 non-null  object        \n",
      " 1   order_payment_total  51452 non-null  float64       \n",
      " 2   review_score         51452 non-null  float64       \n",
      " 3   recency              51452 non-null  datetime64[ns]\n",
      "dtypes: datetime64[ns](1), float64(2), object(1)\n",
      "memory usage: 2.0+ MB\n"
     ]
    }
   ],
   "source": [
    "customers_dict[\"Sliding_Set\"+str(delta).zfill(3)].info()"
   ]
  },
  {
   "cell_type": "code",
   "execution_count": 97,
   "id": "d9ed5119",
   "metadata": {},
   "outputs": [],
   "source": [
    "#customers_dict[\"Growing_Set041\"].info()"
   ]
  },
  {
   "cell_type": "markdown",
   "id": "d09ccbe8",
   "metadata": {},
   "source": [
    "## 4.2 Modélisation"
   ]
  },
  {
   "cell_type": "markdown",
   "id": "228ded70",
   "metadata": {},
   "source": [
    "### 4.2.1 Création du Préprocesseur"
   ]
  },
  {
   "cell_type": "code",
   "execution_count": 98,
   "id": "16c6d8bc",
   "metadata": {},
   "outputs": [
    {
     "data": {
      "text/html": [
       "<div>\n",
       "<style scoped>\n",
       "    .dataframe tbody tr th:only-of-type {\n",
       "        vertical-align: middle;\n",
       "    }\n",
       "\n",
       "    .dataframe tbody tr th {\n",
       "        vertical-align: top;\n",
       "    }\n",
       "\n",
       "    .dataframe thead th {\n",
       "        text-align: right;\n",
       "    }\n",
       "</style>\n",
       "<table border=\"1\" class=\"dataframe\">\n",
       "  <thead>\n",
       "    <tr style=\"text-align: right;\">\n",
       "      <th></th>\n",
       "      <th>recency</th>\n",
       "    </tr>\n",
       "  </thead>\n",
       "  <tbody>\n",
       "    <tr>\n",
       "      <th>0</th>\n",
       "      <td>-53.0</td>\n",
       "    </tr>\n",
       "    <tr>\n",
       "      <th>1</th>\n",
       "      <td>-56.0</td>\n",
       "    </tr>\n",
       "    <tr>\n",
       "      <th>2</th>\n",
       "      <td>-229.0</td>\n",
       "    </tr>\n",
       "    <tr>\n",
       "      <th>3</th>\n",
       "      <td>-87.0</td>\n",
       "    </tr>\n",
       "    <tr>\n",
       "      <th>4</th>\n",
       "      <td>-72.0</td>\n",
       "    </tr>\n",
       "    <tr>\n",
       "      <th>...</th>\n",
       "      <td>...</td>\n",
       "    </tr>\n",
       "    <tr>\n",
       "      <th>51447</th>\n",
       "      <td>-196.0</td>\n",
       "    </tr>\n",
       "    <tr>\n",
       "      <th>51448</th>\n",
       "      <td>-186.0</td>\n",
       "    </tr>\n",
       "    <tr>\n",
       "      <th>51449</th>\n",
       "      <td>-82.0</td>\n",
       "    </tr>\n",
       "    <tr>\n",
       "      <th>51450</th>\n",
       "      <td>-203.0</td>\n",
       "    </tr>\n",
       "    <tr>\n",
       "      <th>51451</th>\n",
       "      <td>-60.0</td>\n",
       "    </tr>\n",
       "  </tbody>\n",
       "</table>\n",
       "<p>51452 rows × 1 columns</p>\n",
       "</div>"
      ],
      "text/plain": [
       "       recency\n",
       "0        -53.0\n",
       "1        -56.0\n",
       "2       -229.0\n",
       "3        -87.0\n",
       "4        -72.0\n",
       "...        ...\n",
       "51447   -196.0\n",
       "51448   -186.0\n",
       "51449    -82.0\n",
       "51450   -203.0\n",
       "51451    -60.0\n",
       "\n",
       "[51452 rows x 1 columns]"
      ]
     },
     "execution_count": 98,
     "metadata": {},
     "output_type": "execute_result"
    }
   ],
   "source": [
    "daysfromlastdate_transformer.fit_transform(customers_dict[\"Sliding_Set\"+str(delta).zfill(3)][['recency']])"
   ]
  },
  {
   "cell_type": "code",
   "execution_count": 99,
   "id": "4b6be9f1",
   "metadata": {},
   "outputs": [],
   "source": [
    "standardscale_features = ['review_score']\n",
    "log1pscale_features = ['order_payment_total']\n",
    "logscale_features = []\n",
    "daysfromlastdate_features = ['recency']\n",
    "passthrough_features = []\n",
    "all_features = logscale_features + log1pscale_features + standardscale_features + daysfromlastdate_features + \\\n",
    "               passthrough_features\n",
    "preprocessor_X = create_preprocessor_X(logscale_features = logscale_features, \n",
    "                                       standardscale_features = standardscale_features,\n",
    "                                       log1pscale_features = log1pscale_features,\n",
    "                                       daysfromlastdate_features = daysfromlastdate_features)\n",
    "preprocessor_X0 = create_preprocessor_X(logscale_features = logscale_features, \n",
    "                                       standardscale_features = standardscale_features,\n",
    "                                       log1pscale_features = log1pscale_features,\n",
    "                                       daysfromlastdate_features = daysfromlastdate_features)"
   ]
  },
  {
   "cell_type": "code",
   "execution_count": 100,
   "id": "59e419fb",
   "metadata": {},
   "outputs": [
    {
     "data": {
      "text/html": [
       "<div>\n",
       "<style scoped>\n",
       "    .dataframe tbody tr th:only-of-type {\n",
       "        vertical-align: middle;\n",
       "    }\n",
       "\n",
       "    .dataframe tbody tr th {\n",
       "        vertical-align: top;\n",
       "    }\n",
       "\n",
       "    .dataframe thead th {\n",
       "        text-align: right;\n",
       "    }\n",
       "</style>\n",
       "<table border=\"1\" class=\"dataframe\">\n",
       "  <thead>\n",
       "    <tr style=\"text-align: right;\">\n",
       "      <th></th>\n",
       "      <th>order_payment_total</th>\n",
       "      <th>review_score</th>\n",
       "      <th>recency</th>\n",
       "    </tr>\n",
       "  </thead>\n",
       "  <tbody>\n",
       "    <tr>\n",
       "      <th>count</th>\n",
       "      <td>5.145200e+04</td>\n",
       "      <td>5.145200e+04</td>\n",
       "      <td>5.145200e+04</td>\n",
       "    </tr>\n",
       "    <tr>\n",
       "      <th>mean</th>\n",
       "      <td>9.175933e-16</td>\n",
       "      <td>5.231159e-16</td>\n",
       "      <td>-5.026774e-17</td>\n",
       "    </tr>\n",
       "    <tr>\n",
       "      <th>std</th>\n",
       "      <td>1.000010e+00</td>\n",
       "      <td>1.000010e+00</td>\n",
       "      <td>1.000010e+00</td>\n",
       "    </tr>\n",
       "    <tr>\n",
       "      <th>min</th>\n",
       "      <td>-2.811617e+00</td>\n",
       "      <td>-2.164472e+00</td>\n",
       "      <td>-1.698691e+00</td>\n",
       "    </tr>\n",
       "    <tr>\n",
       "      <th>25%</th>\n",
       "      <td>-7.018746e-01</td>\n",
       "      <td>-7.255414e-01</td>\n",
       "      <td>-8.263578e-01</td>\n",
       "    </tr>\n",
       "    <tr>\n",
       "      <th>50%</th>\n",
       "      <td>-3.782414e-02</td>\n",
       "      <td>7.133894e-01</td>\n",
       "      <td>8.544385e-04</td>\n",
       "    </tr>\n",
       "    <tr>\n",
       "      <th>75%</th>\n",
       "      <td>5.945248e-01</td>\n",
       "      <td>7.133894e-01</td>\n",
       "      <td>8.581471e-01</td>\n",
       "    </tr>\n",
       "    <tr>\n",
       "      <th>max</th>\n",
       "      <td>5.033054e+00</td>\n",
       "      <td>7.133894e-01</td>\n",
       "      <td>1.775601e+00</td>\n",
       "    </tr>\n",
       "  </tbody>\n",
       "</table>\n",
       "</div>"
      ],
      "text/plain": [
       "       order_payment_total  review_score       recency\n",
       "count         5.145200e+04  5.145200e+04  5.145200e+04\n",
       "mean          9.175933e-16  5.231159e-16 -5.026774e-17\n",
       "std           1.000010e+00  1.000010e+00  1.000010e+00\n",
       "min          -2.811617e+00 -2.164472e+00 -1.698691e+00\n",
       "25%          -7.018746e-01 -7.255414e-01 -8.263578e-01\n",
       "50%          -3.782414e-02  7.133894e-01  8.544385e-04\n",
       "75%           5.945248e-01  7.133894e-01  8.581471e-01\n",
       "max           5.033054e+00  7.133894e-01  1.775601e+00"
      ]
     },
     "execution_count": 100,
     "metadata": {},
     "output_type": "execute_result"
    }
   ],
   "source": [
    "preprocessor_X_test = create_preprocessor_X(logscale_features = logscale_features, \n",
    "                                            standardscale_features = standardscale_features,\n",
    "                                            log1pscale_features = log1pscale_features,\n",
    "                                            daysfromlastdate_features = daysfromlastdate_features)\n",
    "customers_df = customers_dict[\"Sliding_Set\"+str(delta).zfill(3)]\n",
    "X = customers_df[all_features].dropna().copy()\n",
    "X_scaled = preprocessor_X_test.fit_transform(X)\n",
    "X_scaled = pd.DataFrame(X_scaled, index = X.index, columns = X.columns).astype(float)\n",
    "X_scaled.describe()"
   ]
  },
  {
   "cell_type": "markdown",
   "id": "d2298cce",
   "metadata": {},
   "source": [
    "## 4.3 Modélisation"
   ]
  },
  {
   "cell_type": "code",
   "execution_count": 101,
   "id": "24eb5c04",
   "metadata": {},
   "outputs": [],
   "source": [
    "n_clusters=4\n",
    "km = KMeans(n_clusters=n_clusters,n_init=20)\n",
    "prepro = preprocessor_X\n",
    "model = build_model(km, prepro)"
   ]
  },
  {
   "cell_type": "markdown",
   "id": "1d7e651d",
   "metadata": {},
   "source": [
    "### 4.3.1 Création des Labels et Computation du ARI"
   ]
  },
  {
   "cell_type": "code",
   "execution_count": 102,
   "id": "03cdd601",
   "metadata": {},
   "outputs": [],
   "source": [
    "offset = 0\n",
    "initial_set = delta + offset\n",
    "initial_set_key = \"Growing_Set\"+str(initial_set).zfill(3)\n",
    "\n",
    "score_dict = creation_des_labels(customers_dict, initial_set_key, all_features, model)"
   ]
  },
  {
   "cell_type": "code",
   "execution_count": 103,
   "id": "f710b13f",
   "metadata": {},
   "outputs": [],
   "source": [
    "sliding_score = []\n",
    "growing_score = []\n",
    "week_number = []\n",
    "for i in range(initial_set, final_week + 1):\n",
    "    sliding_score.append(score_dict[\"Sliding_Set\"+str(i).zfill(3)])\n",
    "    growing_score.append(score_dict[\"Growing_Set\"+str(i).zfill(3)])\n",
    "    week_number.append(i-initial_set)"
   ]
  },
  {
   "cell_type": "code",
   "execution_count": 104,
   "id": "0b5842ef",
   "metadata": {},
   "outputs": [
    {
     "name": "stdout",
     "output_type": "stream",
     "text": [
      "18.889653281574848\n",
      "Decay time to 0.95: 0.97\n",
      "Decay time to 0.90: 1.99\n",
      "Decay time to 0.85: 3.07\n",
      "Decay time to 0.80: 4.22\n",
      "Decay time to 0.50: 13.09\n"
     ]
    }
   ],
   "source": [
    "b = sp.optimize.curve_fit(exp_decay, week_number, growing_score)[0][0]\n",
    "growing_score_fit = [exp_decay(x, b) for x in week_number]\n",
    "print(1/b)\n",
    "for decay_limit in [0.95, 0.9, 0.85, 0.8, 0.5] :\n",
    "    print(f'Decay time to {decay_limit:.2f}:', round(np.log(1/decay_limit)/b, 2))"
   ]
  },
  {
   "cell_type": "code",
   "execution_count": 105,
   "id": "5a40f959",
   "metadata": {},
   "outputs": [
    {
     "name": "stdout",
     "output_type": "stream",
     "text": [
      "58.162621985775054\n",
      "Decay time to 0.95: 2.98\n",
      "Decay time to 0.90: 6.13\n",
      "Decay time to 0.85: 9.45\n",
      "Decay time to 0.80: 12.98\n",
      "Decay time to 0.50: 40.32\n"
     ]
    }
   ],
   "source": [
    "b = sp.optimize.curve_fit(exp_decay, week_number, sliding_score)[0][0]\n",
    "sliding_score_fit = [exp_decay(x, b) for x in week_number]\n",
    "print(1/b)\n",
    "for decay_limit in [0.95, 0.9, 0.85, 0.8, 0.5] :\n",
    "    print(f'Decay time to {decay_limit:.2f}:', round(np.log(1/decay_limit)/b, 2))"
   ]
  },
  {
   "cell_type": "code",
   "execution_count": 106,
   "id": "c354f4bd",
   "metadata": {},
   "outputs": [
    {
     "data": {
      "text/plain": [
       "Text(0.5, 0, 'Nombre de Semaines')"
      ]
     },
     "execution_count": 106,
     "metadata": {},
     "output_type": "execute_result"
    },
    {
     "data": {
      "image/png": "[encoded data removed]",
      "text/plain": [
       "<Figure size 432x288 with 1 Axes>"
      ]
     },
     "metadata": {
      "needs_background": "light"
     },
     "output_type": "display_data"
    }
   ],
   "source": [
    "plt.plot(week_number, growing_score, 'g^', label='Croissant')\n",
    "plt.plot(week_number, sliding_score, marker='o', ls='', color='orange',  label='Glissant')\n",
    "plt.plot(week_number, growing_score_fit, 'g-')\n",
    "plt.plot(week_number, sliding_score_fit, marker=None, color='orange')\n",
    "plt.legend()\n",
    "plt.ylabel('ARI - Score')\n",
    "plt.xlabel('Nombre de Semaines')\n",
    "#plt.ylim(0.6,1.01)\n",
    "#plt.xlim(0,12)"
   ]
  },
  {
   "cell_type": "code",
   "execution_count": null,
   "id": "67cd5c83",
   "metadata": {},
   "outputs": [],
   "source": []
  },
  {
   "cell_type": "code",
   "execution_count": null,
   "id": "c55af5e5",
   "metadata": {},
   "outputs": [],
   "source": []
  }
 ],
 "metadata": {
  "kernelspec": {
   "display_name": "Python 3",
   "language": "python",
   "name": "python3"
  },
  "language_info": {
   "codemirror_mode": {
    "name": "ipython",
    "version": 3
   },
   "file_extension": ".py",
   "mimetype": "text/x-python",
   "name": "python",
   "nbconvert_exporter": "python",
   "pygments_lexer": "ipython3",
   "version": "3.9.5"
  }
 },
 "nbformat": 4,
 "nbformat_minor": 5
}
